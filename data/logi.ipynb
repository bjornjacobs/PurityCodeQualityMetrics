{
 "cells": [
  {
   "cell_type": "code",
   "execution_count": 140,
   "metadata": {},
   "outputs": [
    {
     "data": {
      "text/html": [
       "<div>\n",
       "<style scoped>\n",
       "    .dataframe tbody tr th:only-of-type {\n",
       "        vertical-align: middle;\n",
       "    }\n",
       "\n",
       "    .dataframe tbody tr th {\n",
       "        vertical-align: top;\n",
       "    }\n",
       "\n",
       "    .dataframe thead th {\n",
       "        text-align: right;\n",
       "    }\n",
       "</style>\n",
       "<table border=\"1\" class=\"dataframe\">\n",
       "  <thead>\n",
       "    <tr style=\"text-align: right;\">\n",
       "      <th></th>\n",
       "      <th>r-local</th>\n",
       "      <th>w-local</th>\n",
       "      <th>r-global</th>\n",
       "      <th>w-global</th>\n",
       "      <th>w-para</th>\n",
       "      <th>w-non-fresh</th>\n",
       "    </tr>\n",
       "    <tr>\n",
       "      <th>faulty</th>\n",
       "      <th></th>\n",
       "      <th></th>\n",
       "      <th></th>\n",
       "      <th></th>\n",
       "      <th></th>\n",
       "      <th></th>\n",
       "    </tr>\n",
       "  </thead>\n",
       "  <tbody>\n",
       "    <tr>\n",
       "      <th>0</th>\n",
       "      <td>233260</td>\n",
       "      <td>233260</td>\n",
       "      <td>233260</td>\n",
       "      <td>233260</td>\n",
       "      <td>233260</td>\n",
       "      <td>233260</td>\n",
       "    </tr>\n",
       "    <tr>\n",
       "      <th>1</th>\n",
       "      <td>52974</td>\n",
       "      <td>52974</td>\n",
       "      <td>52974</td>\n",
       "      <td>52974</td>\n",
       "      <td>52974</td>\n",
       "      <td>52974</td>\n",
       "    </tr>\n",
       "  </tbody>\n",
       "</table>\n",
       "</div>"
      ],
      "text/plain": [
       "        r-local  w-local  r-global  w-global  w-para  w-non-fresh\n",
       "faulty                                                           \n",
       "0        233260   233260    233260    233260  233260       233260\n",
       "1         52974    52974     52974     52974   52974        52974"
      ]
     },
     "execution_count": 140,
     "metadata": {},
     "output_type": "execute_result"
    }
   ],
   "source": [
    "#import pandas\n",
    "import pandas as pd\n",
    "import numpy as np\n",
    "\n",
    "dataset = 'purity'\n",
    "\n",
    "if dataset == 'purity':\n",
    "    col_names = ['r-local', 'w-local', 'r-global', 'w-global',\n",
    "                'w-para', 'w-non-fresh', 'faulty']\n",
    "    # load dataset\n",
    "    pima = pd.read_csv(\"regression/constructs/regression-best.csv\", header=None, names=col_names, sep=';')\n",
    "elif dataset == 'old':\n",
    "    col_names =  ['DepthOfInheritanceTree','LackOfCohesionOfMethods','WeightedMethodsPerClass','ResponseForAClass','SourceLinesOfCode','CommentDensity','LambdaCount','SourceLinesOfLambda','LambdaScore','LambdaFieldVariableUsageCount','LambdaLocalVariableUsageCount','LambdaSideEffectCount','UnterminatedCollections','CyclomaticComplexity', 'r-local', 'w-local', 'r-global', 'w-global', 'w-para', 'w-non-fresh', 'faulty']\n",
    "    pima = pd.read_csv(\"regression/old-metrics-jellyfin.csv\", header=None, names=col_names, sep=';')\n",
    "pima.head()\n",
    "\n",
    "\n",
    "pima.groupby('faulty').count()\n"
   ]
  },
  {
   "cell_type": "code",
   "execution_count": 141,
   "metadata": {},
   "outputs": [],
   "source": [
    "from sklearn.metrics import confusion_matrix, r2_score, precision_score, recall_score, matthews_corrcoef, f1_score\n",
    "def get_stats(actual, predicted):\n",
    "    tn, fp, fn, tp = confusion_matrix(actual, predicted).ravel()\n",
    "    r2 = r2_score(actual, predicted)\n",
    "    fscore = f1_score(actual, predicted) * 100\n",
    "    precision = precision_score(actual, predicted, zero_division=0) * 100\n",
    "    recall = recall_score(actual, predicted, zero_division=0) * 100\n",
    "    mcc = matthews_corrcoef(actual, predicted)\n",
    "    return {\n",
    "        'tn': tn,\n",
    "        'fp': fp,\n",
    "        'fn': fn,\n",
    "        'tp': tp,\n",
    "        'r2': r2,\n",
    "        'fscore': fscore,\n",
    "        'precision': precision,\n",
    "        'recall': recall,\n",
    "        'mcc': mcc,\n",
    "    }"
   ]
  },
  {
   "cell_type": "code",
   "execution_count": 142,
   "metadata": {},
   "outputs": [],
   "source": [
    "\n",
    "if dataset == 'purity':\n",
    "    feature_cols = ['r-local', 'w-local', 'r-global', 'w-global', 'w-para', 'w-non-fresh']\n",
    "elif dataset == 'old':\n",
    "    feature_cols = ['DepthOfInheritanceTree','LackOfCohesionOfMethods','WeightedMethodsPerClass', 'ResponseForAClass','SourceLinesOfCode','CommentDensity','LambdaCount','SourceLinesOfLambda','LambdaScore','LambdaFieldVariableUsageCount','LambdaLocalVariableUsageCount','LambdaSideEffectCount','UnterminatedCollections','CyclomaticComplexity','r-local', 'w-local', 'r-global', 'w-global', 'w-para', 'w-non-fresh']\n",
    "    \n",
    "\n",
    "X = pima[feature_cols] # Features\n",
    "y = pima['faulty'] # Target variable"
   ]
  },
  {
   "cell_type": "code",
   "execution_count": 143,
   "metadata": {},
   "outputs": [],
   "source": [
    "# split X and y into training and testing sets\n",
    "from sklearn.model_selection import train_test_split\n",
    "X_train,X_test,y_train,y_test=train_test_split(X,y,test_size=0.25,random_state=0)"
   ]
  },
  {
   "cell_type": "code",
   "execution_count": 144,
   "metadata": {},
   "outputs": [],
   "source": [
    "# import the class\n",
    "from sklearn.linear_model import LogisticRegression\n",
    "from sklearn.model_selection import KFold\n",
    "from sklearn.model_selection import cross_val_predict\n",
    "\n",
    "cv = KFold(n_splits=10, random_state=1, shuffle=True)\n",
    "\n",
    "# instantiate the model (using the default parameters)\n",
    "logreg = LogisticRegression(class_weight='balanced', random_state=42, max_iter=10000)\n",
    "logreg.fit(X_train, y_train)\n",
    "\n",
    "y_pred = logreg.predict(X_test) # cross_val_predict(logreg, X, y, cv=cv)\n",
    "y_pred_proba = logreg.predict_proba(X_test) # cross_val_predict(logreg, X, y, cv=cv)\n",
    "y_pred_proba = np.max(y_pred_proba, axis=1)\n",
    "\n",
    "stats = get_stats(y_test, y_pred)"
   ]
  },
  {
   "cell_type": "code",
   "execution_count": 145,
   "metadata": {},
   "outputs": [
    {
     "name": "stdout",
     "output_type": "stream",
     "text": [
      "Precision 31.395662131213797\n",
      "Recall 35.045112781954884\n",
      "Fscore 33.120159170041916\n",
      "R^2 -0.7384472217464995\n",
      "Precission good: 31.395662131213797 %\n",
      "Precission faulty: 84.76716096838467 %\n",
      "8639\n",
      "48074\n"
     ]
    }
   ],
   "source": [
    "print(\"Precision\", stats['precision'])\n",
    "print(\"Recall\", stats[\"recall\"])\n",
    "print(\"Fscore\", stats[\"fscore\"])\n",
    "print(\"R^2\", stats['r2'])\n",
    "print(\"Precission good:\", stats['tp'] / (stats['fp'] +  stats['tp']) * 100, \"%\")\n",
    "print(\"Precission faulty:\", stats['tn'] / (stats['tn'] +  stats['fn']) * 100, \"%\")\n",
    "\n",
    "print(stats['fn'])\n",
    "print(stats['tn'])\n"
   ]
  },
  {
   "cell_type": "code",
   "execution_count": null,
   "metadata": {},
   "outputs": [],
   "source": []
  },
  {
   "cell_type": "code",
   "execution_count": 146,
   "metadata": {},
   "outputs": [
    {
     "data": {
      "text/plain": [
       "array([[48074, 10185],\n",
       "       [ 8639,  4661]], dtype=int64)"
      ]
     },
     "execution_count": 146,
     "metadata": {},
     "output_type": "execute_result"
    }
   ],
   "source": [
    "from sklearn import metrics\n",
    "cnf_matrix = metrics.confusion_matrix(y_test, y_pred)\n",
    "cnf_matrix"
   ]
  },
  {
   "cell_type": "code",
   "execution_count": 147,
   "metadata": {},
   "outputs": [
    {
     "data": {
      "text/html": [
       "<div>\n",
       "<style scoped>\n",
       "    .dataframe tbody tr th:only-of-type {\n",
       "        vertical-align: middle;\n",
       "    }\n",
       "\n",
       "    .dataframe tbody tr th {\n",
       "        vertical-align: top;\n",
       "    }\n",
       "\n",
       "    .dataframe thead th {\n",
       "        text-align: right;\n",
       "    }\n",
       "</style>\n",
       "<table border=\"1\" class=\"dataframe\">\n",
       "  <thead>\n",
       "    <tr style=\"text-align: right;\">\n",
       "      <th></th>\n",
       "      <th>0</th>\n",
       "      <th>0</th>\n",
       "    </tr>\n",
       "  </thead>\n",
       "  <tbody>\n",
       "    <tr>\n",
       "      <th>0</th>\n",
       "      <td>r-local</td>\n",
       "      <td>0.068495</td>\n",
       "    </tr>\n",
       "    <tr>\n",
       "      <th>1</th>\n",
       "      <td>w-local</td>\n",
       "      <td>0.195248</td>\n",
       "    </tr>\n",
       "    <tr>\n",
       "      <th>2</th>\n",
       "      <td>r-global</td>\n",
       "      <td>0.259815</td>\n",
       "    </tr>\n",
       "    <tr>\n",
       "      <th>3</th>\n",
       "      <td>w-global</td>\n",
       "      <td>0.448558</td>\n",
       "    </tr>\n",
       "    <tr>\n",
       "      <th>4</th>\n",
       "      <td>w-para</td>\n",
       "      <td>0.086951</td>\n",
       "    </tr>\n",
       "    <tr>\n",
       "      <th>5</th>\n",
       "      <td>w-non-fresh</td>\n",
       "      <td>0.292932</td>\n",
       "    </tr>\n",
       "  </tbody>\n",
       "</table>\n",
       "</div>"
      ],
      "text/plain": [
       "             0         0\n",
       "0      r-local  0.068495\n",
       "1      w-local  0.195248\n",
       "2     r-global  0.259815\n",
       "3     w-global  0.448558\n",
       "4       w-para  0.086951\n",
       "5  w-non-fresh  0.292932"
      ]
     },
     "execution_count": 147,
     "metadata": {},
     "output_type": "execute_result"
    }
   ],
   "source": [
    "coefficients = pd.concat([pd.DataFrame(X.columns), pd.DataFrame(np.transpose(logreg.coef_))], axis = 1)\n",
    "\n",
    "coefficients"
   ]
  },
  {
   "cell_type": "code",
   "execution_count": 148,
   "metadata": {},
   "outputs": [],
   "source": [
    "# import required modules\n",
    "import numpy as np\n",
    "import matplotlib.pyplot as plt\n",
    "import seaborn as sns\n",
    "%matplotlib inline"
   ]
  },
  {
   "cell_type": "code",
   "execution_count": 149,
   "metadata": {},
   "outputs": [
    {
     "data": {
      "image/png": "[encoded data removed]",
      "text/plain": [
       "<Figure size 432x288 with 1 Axes>"
      ]
     },
     "metadata": {
      "needs_background": "light"
     },
     "output_type": "display_data"
    }
   ],
   "source": [
    "from sklearn.metrics import PrecisionRecallDisplay\n",
    "\n",
    "display = PrecisionRecallDisplay.from_estimator(\n",
    "    logreg, X_test, y_test, name=\"LinearSVC\"\n",
    ")\n",
    "_ = display.ax_.set_title(\"2-class Precision-Recall curve\")"
   ]
  },
  {
   "cell_type": "code",
   "execution_count": 150,
   "metadata": {},
   "outputs": [
    {
     "name": "stderr",
     "output_type": "stream",
     "text": [
      "c:\\Users\\BjornJ\\AppData\\Local\\Programs\\Python\\Python310\\lib\\site-packages\\seaborn\\distributions.py:2619: FutureWarning: `distplot` is a deprecated function and will be removed in a future version. Please adapt your code to use either `displot` (a figure-level function with similar flexibility) or `histplot` (an axes-level function for histograms).\n",
      "  warnings.warn(msg, FutureWarning)\n",
      "c:\\Users\\BjornJ\\AppData\\Local\\Programs\\Python\\Python310\\lib\\site-packages\\seaborn\\distributions.py:2619: FutureWarning: `distplot` is a deprecated function and will be removed in a future version. Please adapt your code to use either `displot` (a figure-level function with similar flexibility) or `histplot` (an axes-level function for histograms).\n",
      "  warnings.warn(msg, FutureWarning)\n",
      "c:\\Users\\BjornJ\\AppData\\Local\\Programs\\Python\\Python310\\lib\\site-packages\\seaborn\\distributions.py:2619: FutureWarning: `distplot` is a deprecated function and will be removed in a future version. Please adapt your code to use either `displot` (a figure-level function with similar flexibility) or `histplot` (an axes-level function for histograms).\n",
      "  warnings.warn(msg, FutureWarning)\n"
     ]
    },
    {
     "data": {
      "image/png": "[encoded data removed]",
      "text/plain": [
       "<Figure size 864x576 with 3 Axes>"
      ]
     },
     "metadata": {
      "needs_background": "light"
     },
     "output_type": "display_data"
    }
   ],
   "source": [
    "import seaborn as sb\n",
    "\n",
    "# Code to reproduce the plot below\n",
    "fig = plt.figure(figsize=(12,8))\n",
    "\n",
    "ax = fig.add_subplot(311)\n",
    "sb.distplot(y_test)\n",
    "plt.title('y_test')\n",
    "plt.xlim([0, 1])\n",
    "\n",
    "\n",
    "ax = fig.add_subplot(312)\n",
    "sb.distplot(y_pred_proba)\n",
    "plt.title('predicted tips')\n",
    "plt.xlim([0, 1])\n",
    "\n",
    "ax = fig.add_subplot(313)\n",
    "sb.distplot(y_test - y_pred_proba)\n",
    "plt.title('y_test - predicted tips')\n",
    "plt.xlim([0, 1])\n",
    "\n",
    "plt.tight_layout()\n",
    "\n",
    "plt.show()"
   ]
  },
  {
   "cell_type": "code",
   "execution_count": 151,
   "metadata": {},
   "outputs": [
    {
     "data": {
      "text/plain": [
       "Text(0.5, 257.44, 'Predicted label')"
      ]
     },
     "execution_count": 151,
     "metadata": {},
     "output_type": "execute_result"
    },
    {
     "data": {
      "image/png": "[encoded data removed]",
      "text/plain": [
       "<Figure size 432x288 with 2 Axes>"
      ]
     },
     "metadata": {
      "needs_background": "light"
     },
     "output_type": "display_data"
    }
   ],
   "source": [
    "class_names=[0,1] # name  of classes\n",
    "fig, ax = plt.subplots()\n",
    "tick_marks = np.arange(len(class_names))\n",
    "plt.xticks(tick_marks, class_names)\n",
    "plt.yticks(tick_marks, class_names)\n",
    "# create heatmap\n",
    "sns.heatmap(pd.DataFrame(cnf_matrix), annot=True, cmap=\"YlGnBu\" ,fmt='g')\n",
    "ax.xaxis.set_label_position(\"top\")\n",
    "plt.tight_layout()\n",
    "plt.title('Confusion matrix', y=1.1)\n",
    "plt.ylabel('Actual label')\n",
    "plt.xlabel('Predicted label')"
   ]
  },
  {
   "cell_type": "markdown",
   "metadata": {},
   "source": []
  },
  {
   "cell_type": "code",
   "execution_count": 152,
   "metadata": {},
   "outputs": [
    {
     "name": "stdout",
     "output_type": "stream",
     "text": [
      "F-Score: 0.3312015917004192\n",
      "Precision: 0.313956621312138\n",
      "Recall: 0.35045112781954885\n"
     ]
    }
   ],
   "source": [
    "print(\"F-Score:\",metrics.f1_score(y_test, y_pred))\n",
    "print(\"Precision:\",metrics.precision_score(y_test, y_pred))\n",
    "print(\"Recall:\",metrics.recall_score(y_test, y_pred))"
   ]
  },
  {
   "cell_type": "code",
   "execution_count": 153,
   "metadata": {},
   "outputs": [
    {
     "data": {
      "image/png": "[encoded data removed]",
      "text/plain": [
       "<Figure size 432x288 with 1 Axes>"
      ]
     },
     "metadata": {
      "needs_background": "light"
     },
     "output_type": "display_data"
    }
   ],
   "source": [
    "y_pred_proba = logreg.predict_proba(X)[::,1]\n",
    "fpr, tpr, _ = metrics.roc_curve(y,  y_pred_proba)\n",
    "auc = metrics.roc_auc_score(y, y_pred_proba)\n",
    "plt.plot(fpr,tpr,label=\"data 1, auc=\"+str(auc))\n",
    "plt.legend(loc=4)\n",
    "plt.show()"
   ]
  },
  {
   "cell_type": "code",
   "execution_count": 154,
   "metadata": {},
   "outputs": [
    {
     "name": "stdout",
     "output_type": "stream",
     "text": [
      "                            OLS Regression Results                            \n",
      "==============================================================================\n",
      "Dep. Variable:                 faulty   R-squared:                       0.031\n",
      "Model:                            OLS   Adj. R-squared:                  0.031\n",
      "Method:                 Least Squares   F-statistic:                     1503.\n",
      "Date:                Wed, 01 Jun 2022   Prob (F-statistic):               0.00\n",
      "Time:                        10:59:05   Log-Likelihood:            -1.3098e+05\n",
      "No. Observations:              286234   AIC:                         2.620e+05\n",
      "Df Residuals:                  286227   BIC:                         2.620e+05\n",
      "Df Model:                           6                                         \n",
      "Covariance Type:            nonrobust                                         \n",
      "===============================================================================\n",
      "                  coef    std err          t      P>|t|      [0.025      0.975]\n",
      "-------------------------------------------------------------------------------\n",
      "const           0.1652      0.001    218.796      0.000       0.164       0.167\n",
      "r-local         0.0086      0.000     44.626      0.000       0.008       0.009\n",
      "w-local         0.0013      0.000      7.612      0.000       0.001       0.002\n",
      "r-global        0.0342      0.001     63.288      0.000       0.033       0.035\n",
      "w-global        0.0154      0.003      5.353      0.000       0.010       0.021\n",
      "w-para          0.0117      0.001      9.012      0.000       0.009       0.014\n",
      "w-non-fresh     0.0338      0.001     25.297      0.000       0.031       0.036\n",
      "==============================================================================\n",
      "Omnibus:                    77256.344   Durbin-Watson:                   0.039\n",
      "Prob(Omnibus):                  0.000   Jarque-Bera (JB):           203177.238\n",
      "Skew:                           1.464   Prob(JB):                         0.00\n",
      "Kurtosis:                       5.910   Cond. No.                         21.5\n",
      "==============================================================================\n",
      "\n",
      "Notes:\n",
      "[1] Standard Errors assume that the covariance matrix of the errors is correctly specified.\n"
     ]
    }
   ],
   "source": [
    "import pandas as pd\n",
    "import numpy as np\n",
    "from sklearn import datasets, linear_model\n",
    "from sklearn.linear_model import LinearRegression\n",
    "import statsmodels.api as sm\n",
    "from scipy import stats\n",
    "\n",
    "\n",
    "X2 = sm.add_constant(X)\n",
    "est = sm.OLS(y, X2)\n",
    "est2 = est.fit()\n",
    "print(est2.summary())"
   ]
  }
 ],
 "metadata": {
  "interpreter": {
   "hash": "2c88bde8babf32d008c1eefe3ca91c5812239a0a193f1435f110bcf00ce4de28"
  },
  "kernelspec": {
   "display_name": "Python 3.10.4 64-bit",
   "language": "python",
   "name": "python3"
  },
  "language_info": {
   "codemirror_mode": {
    "name": "ipython",
    "version": 3
   },
   "file_extension": ".py",
   "mimetype": "text/x-python",
   "name": "python",
   "nbconvert_exporter": "python",
   "pygments_lexer": "ipython3",
   "version": "3.10.4"
  },
  "orig_nbformat": 4
 },
 "nbformat": 4,
 "nbformat_minor": 2
}
